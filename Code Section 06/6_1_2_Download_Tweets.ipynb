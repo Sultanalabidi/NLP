{
  "cells": [
    {
      "cell_type": "code",
      "execution_count": null,
      "metadata": {
        "id": "pu-4bFhS3zGN"
      },
      "outputs": [],
      "source": [
        "import tweepy\n",
        "import csv\n",
        "import pandas as pd\n",
        "import sys\n",
        "from datetime import datetime"
      ]
    },
    {
      "cell_type": "code",
      "execution_count": null,
      "metadata": {
        "id": "7USGC9Qr3zGO"
      },
      "outputs": [],
      "source": [
        "consumer_key = \"\"\n",
        "consumer_secret = \"\"\n",
        "bearer_token = \"\"\n",
        "access_token = \"\"\n",
        "access_token_secret = \"\""
      ]
    },
    {
      "cell_type": "code",
      "execution_count": null,
      "metadata": {
        "id": "eWxKi5FH3zGO"
      },
      "outputs": [],
      "source": [
        "client = tweepy.Client(bearer_token=bearer_token)\n",
        "\n",
        "HashValue = \"#trump\"\n",
        "StartDate = \"2025-01-20T15:00:00Z\" # تاريخ مؤكد على أو بعد التاريخ المطلوب"
      ]
    },
    {
      "cell_type": "code",
      "source": [
        "csvFile = open(HashValue + '.csv', 'a', newline='', encoding='utf-8')\n",
        "csvWriter = csv.writer(csvFile)\n",
        "\n",
        "query = f\"{HashValue} lang:en -is:retweet\"\n",
        "tweets = client.search_recent_tweets(query=query, start_time=StartDate, max_results=10, tweet_fields=['created_at', 'text'])\n",
        "\n",
        "for tweet in tweets.data:\n",
        "    print(tweet.created_at, tweet.text)\n",
        "    csvWriter.writerow([tweet.created_at, tweet.text])\n",
        "\n",
        "print(\"Scraping finished and saved to \" + HashValue + \".csv\")"
      ],
      "metadata": {
        "colab": {
          "base_uri": "https://localhost:8080/"
        },
        "id": "KfLRVD0lDLtv",
        "outputId": "2912f9d8-8dc5-4c28-bc94-946a69266a21"
      },
      "execution_count": 1,
      "outputs": [
        {
          "output_type": "stream",
          "name": "stdout",
          "text": [
            "2025-01-20 19:32:57+00:00 $CHOLIO is the real deal you can find now in the memecoin space. \n",
            "You think am wrong?? \n",
            "Come check us out  !!!\n",
            "#Trump #memecoins #Solana #ToTheMoon\n",
            "#Bullish2025\n",
            "CA. 2Brzy2Ha2Q6rZsU63gPkZ1p2FygMKZe142bY8xLhTuyF\n",
            "https://t.co/jL85pT0NVm https://t.co/zlQzD6unM3\n",
            "2025-01-20 19:32:57+00:00 I just claimed mine, don't be late guys. #TRUMP @panxi110 @BenjaminZagre1 @jiumengeth @dr_ttcX https://t.co/IkjBu9DDVd\n",
            "2025-01-20 19:32:57+00:00 I just claimed mine, don't be late guys. #TRUMP @perekz1990 @aminur112273475 @THen5R0dQkkIHq6 @Tefy1463279 https://t.co/IkjBu9DDVd\n",
            "2025-01-20 19:32:57+00:00 I just claimed mine, don't be late guys. #TRUMP @f2a9m @JeffAshcroft @AJING913231013 @champoux_l https://t.co/b9nWJAPRzq\n",
            "2025-01-20 19:32:57+00:00 @realTrumpNewsX President Trump from the bottom of my heart every fiber my being truly congratulations to the greatest president in modern history I breathe better. I feel better. The air smells better. God bless you in the first family. God bless America.🙏🇺🇸🇺🇸🇺🇸❤️🇺🇸🇺🇸     #MAGA #TRUMP\n",
            "2025-01-20 19:32:57+00:00 @w1nklerr $TRUMP and $MELANIA is so bullish from Jessica's explanation \n",
            "\n",
            "Jessica makes sense of crypto trends so you don’t have to. 🧠  \n",
            "\n",
            "Join her telegram community here👇\n",
            "https://t.co/AlmXjsvId7\n",
            "\n",
            "#BTC #TRUMP #Memecoin\n",
            "2025-01-20 19:32:56+00:00 https://t.co/IDt4oj8CY8\n",
            "Official Trump Coin Price Prediction For 2025, 2026, and 2030\n",
            "\n",
            "#Donald Trump's net\n",
            "#richest man in the world\n",
            "#Trump's net worth\n",
            "#trump bitcoin\n",
            "#trump live inauguration\n",
            "#inauguration #schedule 2025\n",
            "#inauguration day #live stream\n",
            "#inauguration #coverage\n",
            "2025-01-20 19:32:56+00:00 We  Are. Back\n",
            "\n",
            "#Trump https://t.co/2iOJHvOZA5\n",
            "2025-01-20 19:32:55+00:00 The #TRUMP drop is a reality! @KingLahid @EdwinFlorez8706 @Fergi4385Garza @nickegen2 https://t.co/b9nWJAPRzq\n",
            "2025-01-20 19:32:55+00:00 Trump claims, “We’ll plant an American flag on Mars,” and Elon Musk’s reaction says it all. But is it Mars—or Bitcoin—he’s aiming for? Time to smile! 🚀\n",
            "\n",
            "#Bitcoin #ElonMusk #Trump #Mars https://t.co/xvR0otICeH\n",
            "Scraping finished and saved to #trump.csv\n"
          ]
        }
      ]
    }
  ],
  "metadata": {
    "kernelspec": {
      "display_name": "Python 3",
      "language": "python",
      "name": "python3"
    },
    "language_info": {
      "codemirror_mode": {
        "name": "ipython",
        "version": 3
      },
      "file_extension": ".py",
      "mimetype": "text/x-python",
      "name": "python",
      "nbconvert_exporter": "python",
      "pygments_lexer": "ipython3",
      "version": "3.7.6"
    },
    "colab": {
      "provenance": []
    }
  },
  "nbformat": 4,
  "nbformat_minor": 0
}