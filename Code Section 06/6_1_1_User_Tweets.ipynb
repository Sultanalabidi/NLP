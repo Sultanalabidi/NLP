{
  "cells": [
    {
      "cell_type": "code",
      "source": [
        "import tweepy\n",
        "\n",
        "# تعيين مفاتيح API الخاصة بك\n",
        "bearer_token = 'AAAAAAAAAAAAAAAAAAAAAM8nyQEAAAAA4LyRBN6kz8zOlXVzTpr7aFTum1A%3DPfsB4u9YM5O3nXoWyDPljnPDW401EZV9R3WK3WHszmRjJ8vIAs'\n",
        "\n",
        "# المصادقة باستخدام v2\n",
        "client = tweepy.Client(bearer_token=bearer_token)\n",
        "\n",
        "# الحصول على أول 5 تغريدات لحساب المستخدم\n",
        "def get_user_tweets(username):\n",
        "    try:\n",
        "        user = client.get_user(username=username)\n",
        "        user_id = user.data.id\n",
        "\n",
        "        tweets = client.get_users_tweets(id=user_id, max_results=5, tweet_fields=['created_at'])\n",
        "        for tweet in tweets.data:\n",
        "            print(f\"Tweet ID: {tweet.id}\")\n",
        "            print(f\"Created at: {tweet.created_at}\")\n",
        "            print(f\"Text: {tweet.text}\\n\")\n",
        "    except tweepy.TweepyException as e:\n",
        "        print(f\"Error: {e}\")\n",
        "\n",
        "# استخدام الدالة\n",
        "get_user_tweets(\"elonmusk\")\n"
      ],
      "metadata": {
        "colab": {
          "base_uri": "https://localhost:8080/"
        },
        "id": "ae2cXh9FwcXM",
        "outputId": "b7c0c623-da83-4674-fc82-98ba82ebe999"
      },
      "execution_count": 4,
      "outputs": [
        {
          "output_type": "stream",
          "name": "stdout",
          "text": [
            "Tweet ID: 1880540758681456740\n",
            "Created at: 2025-01-18 09:00:30+00:00\n",
            "Text: RT @iam_smx: When Elon Musk was gifted a cool jacket by Space force.\n",
            "\n",
            "\"I am wearing this jacket that was given to me by the Space Force it’…\n",
            "\n",
            "Tweet ID: 1880540111831695471\n",
            "Created at: 2025-01-18 08:57:56+00:00\n",
            "Text: @MarioNawfal @itswolfhunter 😂\n",
            "\n",
            "Tweet ID: 1880536914690036015\n",
            "Created at: 2025-01-18 08:45:13+00:00\n",
            "Text: From MAGA to MEGA:\n",
            "\n",
            "Make Europe Great Again!\n",
            "\n",
            "Tweet ID: 1880536477446336594\n",
            "Created at: 2025-01-18 08:43:29+00:00\n",
            "Text: If we stop having baby humans, there will be no more humanity https://t.co/2MCZpCFYzu\n",
            "\n",
            "Tweet ID: 1880536003494162775\n",
            "Created at: 2025-01-18 08:41:36+00:00\n",
            "Text: This is real https://t.co/G3Z09Os1AF\n",
            "\n"
          ]
        }
      ]
    }
  ],
  "metadata": {
    "kernelspec": {
      "display_name": "Python 3",
      "language": "python",
      "name": "python3"
    },
    "language_info": {
      "codemirror_mode": {
        "name": "ipython",
        "version": 3
      },
      "file_extension": ".py",
      "mimetype": "text/x-python",
      "name": "python",
      "nbconvert_exporter": "python",
      "pygments_lexer": "ipython3",
      "version": "3.7.6"
    },
    "colab": {
      "provenance": []
    }
  },
  "nbformat": 4,
  "nbformat_minor": 0
}